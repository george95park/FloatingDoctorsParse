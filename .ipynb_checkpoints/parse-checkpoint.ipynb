{
 "cells": [
  {
   "cell_type": "code",
   "execution_count": 8,
   "metadata": {},
   "outputs": [],
   "source": [
    "import json"
   ]
  },
  {
   "cell_type": "code",
   "execution_count": 9,
   "metadata": {},
   "outputs": [],
   "source": [
    "import csv"
   ]
  },
  {
   "cell_type": "code",
   "execution_count": 16,
   "metadata": {},
   "outputs": [],
   "source": [
    "data = {}"
   ]
  },
  {
   "cell_type": "code",
   "execution_count": 17,
   "metadata": {},
   "outputs": [
    {
     "name": "stdout",
     "output_type": "stream",
     "text": [
      "['Respiratory', 'Lower Respiratory Tract Infection', 'Lower Respiratory Tract Infection - Bronchiolitis']\n",
      "['Respiratory', 'Lower Respiratory Tract Infection', 'Lower Respiratory Tract Infection - Bronchiolitis']\n",
      "['Respiratory', 'Lower Respiratory Tract Infection', 'Lower Respiratory Tract Infection - Bronchiolitis']\n",
      "['Respiratory', 'Lower Respiratory Tract Infection', 'Lower Respiratory Tract Infection - Pneumonia']\n",
      "['Respiratory', 'Lower Respiratory Tract Infection', 'Lower Respiratory Tract Infection - Pneumonia']\n",
      "['Respiratory', 'Lower Respiratory Tract Infection', 'Lower Respiratory Tract Infection - Pneumonia']\n",
      "['Genitourinary', 'Disorders of menstruation', 'Menorrhagia']\n",
      "['Genitourinary', 'Disorders of menstruation', 'Menorrhagia']\n",
      "['Genitourinary', 'Disorders of menstruation', 'Menorrhagia']\n",
      "['Genitourinary', 'Disorders of menstruation', 'Menorrhagia']\n",
      "['Genitourinary', 'Disorders of menstruation', 'Amenorrhea']\n",
      "['Genitourinary', 'Disorders of menstruation', 'Amenorrhea']\n",
      "['Genitourinary', 'Disorders of menstruation', 'Amenorrhea']\n",
      "['Genitourinary', 'Disorders of menstruation', 'Amenorrhea']\n",
      "['Skin', 'Bacterial infection', 'Cellulitis']\n",
      "['Skin', 'Bacterial infection', 'Cellulitis']\n",
      "['Skin', 'Bacterial infection', 'Cellulitis']\n",
      "['Skin', 'Bacterial infection', 'Cellulitis']\n",
      "['Skin', 'Bacterial infection', 'Cellulitis']\n",
      "['Skin', 'Bacterial infection', 'Folliculitis']\n",
      "['Skin', 'Bacterial infection', 'Folliculitis']\n",
      "['Skin', 'Bacterial infection', 'Folliculitis']\n",
      "['Skin', 'Bacterial infection', 'Folliculitis']\n",
      "['Skin', 'Bacterial infection', 'Impetigo']\n",
      "['Skin', 'Bacterial infection', 'Impetigo']\n",
      "['Skin', 'Bacterial infection', 'Impetigo']\n",
      "['Skin', 'Bacterial infection', 'Impetigo']\n",
      "['Skin', 'Bacterial infection', 'Impetigo']\n",
      "['Skin', 'Fungal Infections', 'Dermatophytes']\n",
      "['Skin', 'Fungal Infections', 'Dermatophytes']\n",
      "['Skin', 'Fungal Infections', 'Dermatophytes']\n",
      "['Skin', 'Fungal Infections', 'Dermatophytes']\n",
      "['Skin', 'Fungal Infections', 'Dermatophytes']\n",
      "['Skin', 'Fungal Infections', 'Candidiasis']\n",
      "['Skin', 'Fungal Infections', 'Candidiasis']\n",
      "['Skin', 'Fungal Infections', 'Candidiasis']\n",
      "['Skin', 'Fungal Infections', 'Candidiasis']\n",
      "['Skin', 'Fungal Infections', 'Candidiasis']\n",
      "['Skin', 'Fungal Infections', 'Pityriasis Versicolor']\n",
      "['Skin', 'Fungal Infections', 'Pityriasis Versicolor']\n",
      "['Skin', 'Fungal Infections', 'Pityriasis Versicolor']\n",
      "['Skin', 'Fungal Infections', 'Pityriasis Versicolor']\n",
      "['Skin', 'Fungal Infections', 'Pityriasis Versicolor']\n"
     ]
    }
   ],
   "source": [
    "currPath = []\n",
    "with open(\"data.csv\") as csvfile:\n",
    "    readCSV = csv.reader(csvfile, delimiter=',')\n",
    "    for row in readCSV:\n",
    "        # If row == ['',''] then next row\n",
    "        c1 = row[0]\n",
    "        c2 = row[1]\n",
    "        if c1 == '' and c2 == '':\n",
    "            continue\n",
    "            \n",
    "        firstCharIndex = 0\n",
    "        for c in c1:\n",
    "            if c.isalpha():\n",
    "                break\n",
    "            firstCharIndex += 1\n",
    "        \n",
    "        # Check if it's a header\n",
    "        if c1[0][0] == '$':\n",
    "            if len(currPath) != 0:\n",
    "                currPath = []\n",
    "            header = c1[1:]\n",
    "            currPath.append(header)\n",
    "            data.update({header:{}})    \n",
    "\n",
    "        # if row == [#.# Example,''] then get the name of subtopic and append to path\n",
    "        elif firstCharIndex < 6 and firstCharIndex != 0:\n",
    "            if len(currPath) == 2:\n",
    "                currPath.pop()\n",
    "            if len(currPath) == 3:\n",
    "                currPath.pop()\n",
    "                currPath.pop()\n",
    "            header = c1[firstCharIndex:]\n",
    "            currPath.append(header)\n",
    "            data[currPath[0]].update({header:{}})\n",
    "        \n",
    "        # if row == [#.#.# Example, '']\n",
    "        elif firstCharIndex > 5:\n",
    "            if len(currPath) == 3:\n",
    "                currPath.pop()\n",
    "            header = c1[firstCharIndex:]\n",
    "            currPath.append(header)\n",
    "            data[currPath[0]][currPath[1]].update({header:{}})\n",
    "            \n",
    "        # if row == ['Causes', 'blahblah']\n",
    "        else:\n",
    "            if len(currPath) == 1:\n",
    "                data[currPath[0]].update({c1:c2})\n",
    "            elif len(currPath) == 2:\n",
    "                data[currPath[0]][currPath[1]].update({c1:c2})                \n",
    "            else:\n",
    "                print(currPath)\n",
    "                data[currPath[0]][currPath[1]][currPath[2]].update({c1:c2})"
   ]
  },
  {
   "cell_type": "code",
   "execution_count": null,
   "metadata": {},
   "outputs": [],
   "source": []
  },
  {
   "cell_type": "code",
   "execution_count": 18,
   "metadata": {},
   "outputs": [],
   "source": [
    "with open('test4.json', 'w') as outfile:\n",
    "    json.dump(data,outfile,indent=4)"
   ]
  },
  {
   "cell_type": "code",
   "execution_count": 6,
   "metadata": {},
   "outputs": [],
   "source": [
    "test = \".S\""
   ]
  },
  {
   "cell_type": "code",
   "execution_count": 7,
   "metadata": {},
   "outputs": [
    {
     "data": {
      "text/plain": [
       "False"
      ]
     },
     "execution_count": 7,
     "metadata": {},
     "output_type": "execute_result"
    }
   ],
   "source": [
    "test[0].isalpha()"
   ]
  },
  {
   "cell_type": "code",
   "execution_count": 47,
   "metadata": {},
   "outputs": [],
   "source": [
    "test['Fever'].update({\"a\":\"b\"})"
   ]
  },
  {
   "cell_type": "code",
   "execution_count": 48,
   "metadata": {},
   "outputs": [
    {
     "data": {
      "text/plain": [
       "{'Fever': {'a': 'b'}}"
      ]
     },
     "execution_count": 48,
     "metadata": {},
     "output_type": "execute_result"
    }
   ],
   "source": [
    "test"
   ]
  },
  {
   "cell_type": "code",
   "execution_count": null,
   "metadata": {},
   "outputs": [],
   "source": [
    "1.1.2 "
   ]
  }
 ],
 "metadata": {
  "kernelspec": {
   "display_name": "Python 3",
   "language": "python",
   "name": "python3"
  },
  "language_info": {
   "codemirror_mode": {
    "name": "ipython",
    "version": 3
   },
   "file_extension": ".py",
   "mimetype": "text/x-python",
   "name": "python",
   "nbconvert_exporter": "python",
   "pygments_lexer": "ipython3",
   "version": "3.7.0"
  }
 },
 "nbformat": 4,
 "nbformat_minor": 2
}
