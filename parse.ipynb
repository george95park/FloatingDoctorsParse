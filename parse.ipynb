{
 "cells": [
  {
   "cell_type": "code",
   "execution_count": 12,
   "metadata": {},
   "outputs": [],
   "source": [
    "import json"
   ]
  },
  {
   "cell_type": "code",
   "execution_count": 13,
   "metadata": {},
   "outputs": [],
   "source": [
    "import csv"
   ]
  },
  {
   "cell_type": "code",
   "execution_count": 14,
   "metadata": {},
   "outputs": [],
   "source": [
    "data = {}"
   ]
  },
  {
   "cell_type": "code",
   "execution_count": 23,
   "metadata": {},
   "outputs": [],
   "source": [
    "currPath = []\n",
    "with open(\"data.csv\") as csvfile:\n",
    "    readCSV = csv.reader(csvfile, delimiter=',')\n",
    "    for row in readCSV:\n",
    "        # If row == ['',''] then next row\n",
    "        c1 = row[0] # key\n",
    "        c2 = row[1] # value\n",
    "        c3 = row[2] # image1\n",
    "        c4 = row[3] # image4\n",
    "        if c1 == '' and c2 == '':\n",
    "            continue\n",
    "            \n",
    "        firstCharIndex = 0\n",
    "        for c in c1:\n",
    "            if c.isalpha():\n",
    "                break\n",
    "            firstCharIndex += 1\n",
    "        \n",
    "        # Check if it's a header\n",
    "        if c1[0][0] == '$':\n",
    "            if len(currPath) != 0:\n",
    "                currPath = []\n",
    "            header = c1[1:]\n",
    "            currPath.append(header)\n",
    "            data.update({header:{}})    \n",
    "\n",
    "        # if row == [#.# Example,''] then get the name of subtopic and append to path\n",
    "        elif firstCharIndex < 6 and firstCharIndex != 0:\n",
    "            if len(currPath) == 2:\n",
    "                currPath.pop()\n",
    "            if len(currPath) == 3:\n",
    "                currPath.pop()\n",
    "                currPath.pop()\n",
    "            header = c1[firstCharIndex:]\n",
    "            currPath.append(header)\n",
    "            data[currPath[0]].update({header:{}})\n",
    "        \n",
    "        # if row == [#.#.# Example, '']\n",
    "        elif firstCharIndex > 5:\n",
    "            if len(currPath) == 3:\n",
    "                currPath.pop()\n",
    "            header = c1[firstCharIndex:]\n",
    "            currPath.append(header)\n",
    "            data[currPath[0]][currPath[1]].update({header:{}})\n",
    "            \n",
    "        # if row == ['Causes', 'blahblah']\n",
    "        else:\n",
    "            if len(currPath) == 1:\n",
    "                \n",
    "                if c3 != '':\n",
    "                    data[currPath[0]].update({c1:{}})\n",
    "                    data[currPath[0]][c1].update({\"Image\":c3})\n",
    "                    data[currPath[0]][c1].update({\"Text\":c2})\n",
    "                    if c4 != '':\n",
    "                        data[currPath[0]][c1].update({\"Image\":c4})\n",
    "                else:\n",
    "                    data[currPath[0]].update({c1:c2}) \n",
    "            elif len(currPath) == 2:\n",
    "                if c3 != '':\n",
    "                    data[currPath[0]][currPath[1]].update({c1:{}})\n",
    "                    data[currPath[0]][currPath[1]][c1].update({\"Image\":c3})\n",
    "                    data[currPath[0]][currPath[1]][c1].update({\"Text\":c2})\n",
    "                    if c4 != '':\n",
    "                        data[currPath[0]][currPath[1]][c1].update({\"Image\":c4})\n",
    "                else:\n",
    "                    data[currPath[0]][currPath[1]].update({c1:c2})                \n",
    "            else:\n",
    "                if c3 != '':\n",
    "                    data[currPath[0]][currPath[1]][currPath[2]].update({c1:{}})\n",
    "                    data[currPath[0]][currPath[1]][currPath[2]][c1].update({\"Image\":c3})\n",
    "                    data[currPath[0]][currPath[1]][currPath[2]][c1].update({\"Text\":c2})\n",
    "                    if c4 != '':\n",
    "                        data[currPath[0]][currPath[1]][currPath[2]][c1].update({\"Image\":c4})\n",
    "                else:\n",
    "                    data[currPath[0]][currPath[1]][currPath[2]].update({c1:c2})"
   ]
  },
  {
   "cell_type": "code",
   "execution_count": null,
   "metadata": {},
   "outputs": [],
   "source": []
  },
  {
   "cell_type": "code",
   "execution_count": 24,
   "metadata": {},
   "outputs": [],
   "source": [
    "with open('data.json', 'w') as outfile:\n",
    "    json.dump(data,outfile,indent=4)"
   ]
  },
  {
   "cell_type": "code",
   "execution_count": 6,
   "metadata": {},
   "outputs": [],
   "source": [
    "test = \".S\""
   ]
  },
  {
   "cell_type": "code",
   "execution_count": 7,
   "metadata": {},
   "outputs": [
    {
     "data": {
      "text/plain": [
       "False"
      ]
     },
     "execution_count": 7,
     "metadata": {},
     "output_type": "execute_result"
    }
   ],
   "source": [
    "test[0].isalpha()"
   ]
  },
  {
   "cell_type": "code",
   "execution_count": 47,
   "metadata": {},
   "outputs": [],
   "source": [
    "test['Fever'].update({\"a\":\"b\"})"
   ]
  },
  {
   "cell_type": "code",
   "execution_count": 48,
   "metadata": {},
   "outputs": [
    {
     "data": {
      "text/plain": [
       "{'Fever': {'a': 'b'}}"
      ]
     },
     "execution_count": 48,
     "metadata": {},
     "output_type": "execute_result"
    }
   ],
   "source": [
    "test"
   ]
  },
  {
   "cell_type": "code",
   "execution_count": 7,
   "metadata": {},
   "outputs": [
    {
     "name": "stdout",
     "output_type": "stream",
     "text": [
      "['$Introduction', '', '', '']\n",
      "['Guideline Use', 'The following guidelines have been written while taking into account the local population and resources most readily available to our organization. Whenever possible, the guidelines should be followed as written. However, patients should always be treated individually. At time, it may be appropriate to stray from these guidelines for individual patients or if specific resources are low.\\n\\nThe following guidelines will cover the treatment of the most common presentations that will be seen in our clinics. As you will discover, practicing medicine in a remote setting requires a different approach. The following guidelines were written with evidence based medicine, as well as with consideration of what is practically available and possible in our setting. Please discuss patients with our Lead Medical Providers, who have experience treating patients in our unique setting. Even relatively common conditions may be treated differently in our setting for a variety of reasons. The Lead Medical Providers are there to ensure that the treatment each of our patients receives, meets Floating Doctors standards. Treatment plans may differ between the communities also, depending on the local resources and closest health care facilities.', '', '']\n",
      "['General Treatment Principles', 'We ask that you:\\n\\n    - Follow the tratment guidelines for each condition to determine the first line treatment determined through careful consideration of this population and our resources.\\n    - Utilize the British National Formulary (BNF) for adults and children.\\n        - Please check any medications you are not familiar with using (i.e., side effects and contraindications), as all of those details are not included in these guidelines.\\n    - Ensure the patient is aware of name and dosage of every medication prescribed.\\n    - Place a script in each bag of medication, including:\\n        - Name, dose, and duration of medication.\\n        - Indication\\n        - Any special instructions (i.e., time of day to take, with food, etc.)\\n    - Go over each script verbally as not all patients are able to read written Spanish.\\n    - Record all prescriptions very clearly in the management section of the patient file and code appropriately.\\n', '', '']\n",
      "['', '', '', '']\n",
      "['$Common Presentations', '', '', '']\n",
      "['2.1 Fever', '', '', '']\n",
      "['Presentation', '- Usually present with subjective fever that can be taken as genuine in this setting\\n- Chills, rigors, sepsis', '', '']\n",
      "['Causes', 'Although the fever is frequently of viral origin, serious illness must be excluded1\\n    - Viral, bacterial, or parasitic infection\\n    - Pneumonia\\n    - Pyelonephritis\\n    - Dengue\\n    - Malaria (less likely)\\n    - Bacterial meningitis\\n    - Skin infections\\n    - Malignancy', '', '']\n",
      "['Investigations', '- Full intake, including respiratory rate and heart rate.\\n- Establish pattern and duration of fever.\\n- For children:\\n    - Pay attention to skin, throat, ears, chest to identify source of infection.\\n    - Enquire about gastrointestinal symptoms and seizures.\\n    - Urine test.', '', '']\n",
      "['Diagnosis', '- Temperature >38 degrees C (100.4 degrees F)\\n\\nAxillary temperature underestimates core body temperature by approximately 0.5 degrees Celsius. 2 Therefore, add 0.5 degrees Celsius to any axillary measurements.', '', '']\n",
      "['Management⁸', \"Infants (aged 0-28 days)\\n    - “All febrile neonates aged 0-28 days old should be hospitalized for presumed sepsis and treated with antibiotics pending culture results (48 hours).3,4”\\n\\nInfants (aged 28-90 days)\\n    - “All febrile infants aged 28-60 days, after having a sepsis evaluation, should be hospitalized and empirically started on intravenous antibiotics pending culture results.3”\\n    - Infants aged 28-90 days will require a number of investigations for which hospitalization is necessary. Regardless of hospitalization outcome, these children still require follow-up every 24 hours until the fever has resolved and all cultures are negative.5\\n\\nInfants (aged 3 months-3 years)\\n    - “Febrile children aged 3 months to 3 years are evaluated based on epidemiologic and focal findings revealed during the history taking and physical examination as well as whether or not these children are at low risk for serious bacterial infections3,6.\\n\\nIdentification and appropriate management depends on the underlying cause. In the case of self-limiting viral infections, the only management required is advice and reassurance.\\nIf meningococcal disease is suspected, give parenteral antibiotics at the earliest opportunity (either benzylpenicillin or a third-generation cephalosporin).\\n\\nHealth Education for patients and relatives\\n    - Stress importance of adequate, and increased fluid intake.\\n    - Do not wear too many clothes or use too many blankets.\\n    - Don't wipe the sweat off immediately as this helps to cool the body.\\n    - Cool baths and tepid sponging are not recommended.\\n\\nAntipyretic drugs\\n    - Fever is the normal response of the body to infection and unless the child becomes distressed or symptomatic, fever alone should not be routinely treated.There is evidence that host defence mechanisms are enhanced by a raised temperature.\\n    - Antipyretics (eg, paracetamol and ibuprofen) should therefore not be used routinely but can be of value, especially for patients with systemic disease (particularly heart failure or respiratory failure) and when fever causes acute confusion.\\n    - Consider either paracetamol or ibuprofen as an option if a child appears distressed or is unwell.\\n\\nPharmacological Treatment (consult BNF or BNF for children)\\n\\nFirst line: Paracetamol/Acetaminophen\\nSecond line: Ibuprofen\\n\\n** Please avoid maximum dosing where appropriate. Higher dosing is not recommended in this region due to chronic dehydration and renal impairment **\", '', '']\n",
      "['', '', '', '']\n",
      "['2.2 Headache', '', '', '']\n",
      "['Causes', 'In our setting one of the most common causes is dehydration9.\\nAwareness of this and advice to patients to increase oral intake is therefore vital.\\nOther causes include10:\\n\\nPrimary Headache\\n    - Tension\\n    - Migraine\\n    - Cluster headache\\n\\nSecondary Headache\\nThe list of causes of secondary headaches is exhaustive and can be found elsewhere9,11. It is included but not limited to: meningitis, giant cell arteritis, sinusitis, visual problems.', '', '']\n",
      "['Investigations', 'History\\n    - Establish patient’s normal fluid intake. Most of population drink only 1-3 glasses of water a day, often while working in the sun!\\n    - A good history is critical to the diagnosis and management of headache. Particular attention must be paid to red flags12:\\n        - New onset headache\\n        - Onset after age 50 years\\n        - Change in pattern of headache\\n        - Worsening headache\\n        - Acute or sudden onset\\n        - Sudden onset during exertion, with coughing, with sneezing, sex-related\\n        - Headache with postural link\\n        - Headache in a setting of malignancy or HIV\\n        - Systemic symptoms (fever, weight loss, cough)\\n        - Neurologic symptoms or signs\\n\\nExam\\nNormal intake will be performed. In case of red flags, ensure a full neurological exam is performed - including fundoscopy (to rule out papilloedema).', '', '']\n",
      "['Diagnosis', 'Whilst access to investigations during Floating Doctors’ clinics will be somewhat limited, a simple history and examination will be ascertain the cause in most scenarios.\\n\\nIf any red flags or concerning features are elicited, please discuss with a Lead Medical Provider. Depending on the urgency of the situation, we can:\\n    - Arrange an emergency hospital appointment.\\n    - Attempt to expedite secondary care at a later date.', '', '']\n",
      "['Management', '1. Simple Dehydration Headache\\nHealth Education13\\n    - Encourage ways to increase fluid intake (i.e., coconut juice, filtered/boiled water, soups, fruit, vegetables)\\n    - Explain importance of water in body\\n    - Advise reduction of caffeinated beverages\\n    - Explain that as a gross marker when urine is clear, they have drank enough water\\n\\nPharmacological Treatment\\nFirst line: Paracetamol/Acetaminophen\\n\\n2. Migraines 13,14\\nHealth Education\\n    - Advice about triggers (i.e., coffee, cheese, stress)\\n    - Encourage a symptom diary where the patient can recognize their triggers\\n\\nPharmacological Treatment\\n    - Acute: Combination of an NSAID and an antiemetic (i.e., ibuprofen and metoclopramide)\\n    - Chronic: Regular prophylactic medication can be considered if the patient is having more than 2 migraines per month13–15\\n        - First line: Propranolol\\n        - Consult BNF for dosage and contraindications', '', '']\n",
      "['', '', '', '']\n",
      "['2.3 Musculoskeletal Pain', '', '', '']\n",
      "['Causes', '“Musculoskeletal pain is a known consequence of repetitive strain, overuse, and work-related musculoskeletal disorders. These injuries include a variety of disorders that cause pain in bones, joints, muscles, or surrounding structures. The pain can be acute or chronic, focal or diffuse. Low back pain is the most common example of chronic musculoskeletal pain. Other examples include tendonitis and tendinosis, neuropathies, myalgia, and stress fractures.16”', '', '']\n",
      "['Presentation', '- Many patients describe a long history of generalized muscular pain, worse after work\\n- Knee, back, shoulder pathology is common', '', '']\n",
      "['Investigations', 'History\\n    - A thorough history can often elucidate a likely cause. Exclude history of direct trauma, deformity, or acute pathology (ongoing infection/ septic joint).\\n    - For back pain, pay particular attention to red flag features 16,17:\\n        - Thoracic pain.\\n        - Age of onset less than 20 or more than 55 years.\\n        - Loss of control of the bowel or bladder.\\n        - Weakness or numbness in a leg or arm.\\n        - Foot drop, disturbed gait.\\n        - High fever.\\n        - Saddle anaesthesia (numbness of the anus, perineum or genitals).\\n        - History of carcinoma.\\n        - Structural deformity.\\n\\nExamination\\n    - Depending on the affected joint, it is necessary to perform a focused examination to guide management and follow up\\n    - If back pain is associated with bowel/bladder incontinence or saddle anaesthesia, a digital rectal exam can be extremely valuable 18. Similarly, neurological examination can be useful if a patient has neurological symptoms.', '', '']\n",
      "['Management', 'Health Education 19\\n    - Give appropriate exercises and stretches; physiotherapy can be extremely beneficial.\\n    - Heat packs can be made easily with a cloth and warm water.\\n    - General lifestyle advice on posture, moving, and handling techniques.\\n    - Reassure patient that muscular pain is normal after working hard and it tends to subside with time. Advise them to return to next clinic or seek further medical advice if needed.\\n\\nPharmacological Treatment\\n1st line: Paracetamol/Acetaminophen\\n2nd line: Ibuprofen\\n\\nDepending on availability we may have access to:\\nTopical NSAIDs, Depo Medrol injections\\n\\nIf any alarming symptoms are elicited, hospital work-up either as an inpatient (in emergencies) or as an outpatient can be facilitated.', '', '']\n",
      "['', '', '', '']\n",
      "['2.4 Rash', '', '', '']\n",
      "['Presentation', 'Patients, typically children, present with acute or chronic rashes. Often these are nonspecific and the underlying diagnosis can seem unclear.', '', '']\n",
      "['Causes', 'Common types of skin rash that we encounter include:\\n    - Scabies\\n    - Impetigo\\n    - Seborrhoeic dermatitis\\n    - Folliculitis\\n    - Insect bites\\n    - Cutaneous leishmaniasis\\n\\nIt is important to be aware that skin rash can be due to more sinister causes20. These include meningococcal disease, malignancy, non-accidental injury or TB.', '', '']\n",
      "['Investigations', \"Children in the communities are usually fully vaccinated, and often the mothers will have a card to prove it. Thankfully this makes a lot of the more serious infections less likely. If you are in doubt regarding vaccinations as the mother for the child's card or ask the Lead Medical Provider if the community in question has a good vaccine program (some communities have less access than others unfortunately).\", '', '']\n",
      "['Diagnosis', 'History 21\\n    - Past medical history, family history, occupation, hobbies, drugs.\\n    - Duration of lesions\\n    - Have there been previous episodes?\\n    - Does the lesion persist or change?\\n    - Where is/are the lesion(s) (check mucous membranes)?\\n    - Provoking or relieving factors\\n    - Associated symptoms: Itch, tenderness, bleeding or discharge, systemic symptoms\\n    - Has patient previously received treatment?\\n\\nExamination\\nDo a thorough examination. If required, consider using the private room\\n    - The diagram below may help with diagnosis\\n\\n(PICTURE)\\nTaken from 22\\n\\nAnother option is to take a photograph of the lesion (provided the patient/ family consent) that can be uploaded to SERMO for secondary advice.', 'rash_diagnosis.jpeg', '']\n",
      "['Management', 'This will vary depending on the underlying cause.\\n\\nTo see if the started treatment is effective you can ask the patient to return to the Friday Follow-Up on single-day clinics (or Thursday morning on multi-day clinics). . Special therapies may be acquired and brought back during Follow-Up if they aren’t ones we stock regularly.\\n\\nHealth Education\\nA high proportion of the cases we see will be infective. Therefore, measures to prevent spread can be useful. These include 21,23:\\n    - Hand washing\\n    - Please hand soap to the patient\\n    - Avoidance of itching\\n    - Use a tissue, or cough and sneeze into your arm, not your hand. Turn away from other people.\\n\\nPharmacological Treatment\\nFor the treatment of dry skin/ itching, we often have the following items available:\\n    - Coconut oil (aceite de coco)\\n    - Calamine lotion\\n    - Oatmeal bath\\n    - Steroid cream trial\\n\\nInfective\\nBacterial - Triple antibiotic cream, consider systemic antibiotics if necessary\\nFungal - Topical Clotrimazole 1% or Nystatin, oral antifungals may also be used\\n\\nNon-Infective\\nHydrocortisone cream can be used', '', '']\n"
     ]
    }
   ],
   "source": [
    "with open(\"data.csv\") as csvfile:\n",
    "    readCSV = csv.reader(csvfile, delimiter=',')\n",
    "    count = 0\n",
    "    for row in readCSV:\n",
    "        if count == 30:\n",
    "            break\n",
    "        print(row)\n",
    "        count += 1"
   ]
  },
  {
   "cell_type": "code",
   "execution_count": null,
   "metadata": {},
   "outputs": [],
   "source": []
  }
 ],
 "metadata": {
  "kernelspec": {
   "display_name": "Python 3",
   "language": "python",
   "name": "python3"
  },
  "language_info": {
   "codemirror_mode": {
    "name": "ipython",
    "version": 3
   },
   "file_extension": ".py",
   "mimetype": "text/x-python",
   "name": "python",
   "nbconvert_exporter": "python",
   "pygments_lexer": "ipython3",
   "version": "3.7.0"
  }
 },
 "nbformat": 4,
 "nbformat_minor": 2
}
