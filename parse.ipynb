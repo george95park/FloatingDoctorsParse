{
 "cells": [
  {
   "cell_type": "code",
   "execution_count": 67,
   "metadata": {},
   "outputs": [],
   "source": [
    "import json\n",
    "import csv"
   ]
  },
  {
   "cell_type": "code",
   "execution_count": 61,
   "metadata": {},
   "outputs": [],
   "source": [
    "data = {}\n",
    "dataES = {}"
   ]
  },
  {
   "cell_type": "code",
   "execution_count": null,
   "metadata": {},
   "outputs": [],
   "source": []
  },
  {
   "cell_type": "code",
   "execution_count": 62,
   "metadata": {},
   "outputs": [],
   "source": [
    "# I need to remove variable c4, because it didn't work before for 2 images.\n",
    "\n",
    "currPath = []\n",
    "firstLine = 0\n",
    "with open(\"data.csv\") as csvfile:\n",
    "    readCSV = csv.reader(csvfile, delimiter=',')\n",
    "    for row in readCSV:\n",
    "        # If row == ['',''] then next row\n",
    "        c1 = row[0] # key\n",
    "        c2 = row[1] # value\n",
    "        c3 = ''\n",
    "        c4 = ''\n",
    "        if len(row) == 3:\n",
    "            c3 = row[2] # image1\n",
    "        if len(row) == 4:\n",
    "            c4 = row[3] # image2\n",
    "        \n",
    "        # skip column headers\n",
    "        if firstLine == 0:\n",
    "            firstLine += 1\n",
    "            continue\n",
    "        if c1 == '' and c2 == '':\n",
    "            continue\n",
    "            \n",
    "        firstCharIndex = 0\n",
    "        for c in c1:\n",
    "            if c.isalpha():\n",
    "                break\n",
    "            firstCharIndex += 1\n",
    "        \n",
    "        # Check if it's a header\n",
    "        if c1[0][0] == '$':\n",
    "            if len(currPath) != 0:\n",
    "                currPath = []\n",
    "            header = c1[1:]\n",
    "            currPath.append(header)\n",
    "            data.update({header:{}})    \n",
    "\n",
    "        # if row == [#.# Example,''] then get the name of subtopic and append to path\n",
    "        elif firstCharIndex < 6 and firstCharIndex != 0:\n",
    "            if len(currPath) == 2:\n",
    "                currPath.pop()\n",
    "            if len(currPath) == 3:\n",
    "                currPath.pop()\n",
    "                currPath.pop()\n",
    "            header = c1[firstCharIndex:]\n",
    "            currPath.append(header)\n",
    "            data[currPath[0]].update({header:{}})\n",
    "        \n",
    "        # if row == [#.#.# Example, '']\n",
    "        elif firstCharIndex > 5:\n",
    "            if len(currPath) == 3:\n",
    "                currPath.pop()\n",
    "            header = c1[firstCharIndex:]\n",
    "            currPath.append(header)\n",
    "            data[currPath[0]][currPath[1]].update({header:{}})\n",
    "            \n",
    "        # if row == ['Causes', 'blahblah']\n",
    "        else:\n",
    "            if len(currPath) == 1:\n",
    "                \n",
    "                if c3 != '':\n",
    "                    data[currPath[0]].update({c1:{}})\n",
    "                    data[currPath[0]][c1].update({\"Image\":c3})\n",
    "                    data[currPath[0]][c1].update({\"Text\":c2})\n",
    "                    if c4 != '':\n",
    "                        data[currPath[0]][c1].update({\"Image\":c4})\n",
    "                else:\n",
    "                    data[currPath[0]].update({c1:c2}) \n",
    "            elif len(currPath) == 2:\n",
    "                if c3 != '':\n",
    "                    data[currPath[0]][currPath[1]].update({c1:{}})\n",
    "                    data[currPath[0]][currPath[1]][c1].update({\"Image\":c3})\n",
    "                    data[currPath[0]][currPath[1]][c1].update({\"Text\":c2})\n",
    "                    if c4 != '':\n",
    "                        data[currPath[0]][currPath[1]][c1].update({\"Image\":c4})\n",
    "                else:\n",
    "                    data[currPath[0]][currPath[1]].update({c1:c2})                \n",
    "            else:\n",
    "                if c3 != '':\n",
    "                    data[currPath[0]][currPath[1]][currPath[2]].update({c1:{}})\n",
    "                    data[currPath[0]][currPath[1]][currPath[2]][c1].update({\"Image\":c3})\n",
    "                    data[currPath[0]][currPath[1]][currPath[2]][c1].update({\"Text\":c2})\n",
    "                    if c4 != '':\n",
    "                        data[currPath[0]][currPath[1]][currPath[2]][c1].update({\"Image\":c4})\n",
    "                else:\n",
    "                    data[currPath[0]][currPath[1]][currPath[2]].update({c1:c2})"
   ]
  },
  {
   "cell_type": "code",
   "execution_count": null,
   "metadata": {},
   "outputs": [],
   "source": []
  },
  {
   "cell_type": "code",
   "execution_count": 66,
   "metadata": {},
   "outputs": [],
   "source": [
    "with open('data.json', 'w') as outfile:\n",
    "    json.dump(data,outfile,indent=4)"
   ]
  },
  {
   "cell_type": "code",
   "execution_count": null,
   "metadata": {},
   "outputs": [],
   "source": []
  },
  {
   "cell_type": "code",
   "execution_count": 22,
   "metadata": {},
   "outputs": [],
   "source": [
    "from translate import Translator"
   ]
  },
  {
   "cell_type": "code",
   "execution_count": 23,
   "metadata": {},
   "outputs": [],
   "source": [
    "translator = Translator(to_lang=\"Spanish\")"
   ]
  },
  {
   "cell_type": "code",
   "execution_count": 49,
   "metadata": {},
   "outputs": [],
   "source": [
    "translation = translator.translate(\"The following guidelines have been written while taking into account the local population and resources most readily available to our organization. Whenever possible, the guidelines should be followed as written. However, patients should always be treated individually. At time, it may be appropriate to stray from these guidelines for individual patients or if specific resources are low.\\n\\nThe following guidelines will cover the treatment of the most common presentations that will be seen in our clinics. As you will discover, practicing medicine in a remote setting requires a different approach. The following guidelines were written with evidence based medicine, as well as with consideration of what is practically available and possible in our setting. Please discuss patients with our Lead Medical Providers, who have experience treating patients in our unique setting. Even relatively common conditions may be treated differently in our setting for a variety of reasons. The Lead Medical Providers are there to ensure that the treatment each of our patients receives, meets Floating Doctors standards. Treatment plans may differ between the communities also, depending on the local resources and closest health care facilities.\")"
   ]
  },
  {
   "cell_type": "code",
   "execution_count": 65,
   "metadata": {},
   "outputs": [
    {
     "name": "stdout",
     "output_type": "stream",
     "text": [
      "{'ntroducción': {'Guía': 'El siguiendo directrices tener como condicion . escrito mientras toma en cuenta el locales investigación y recursos en la mayoría panel. disponible Hasta nuestros organización. Cuando es posible el directrices deberá se haz seguido a as escrito Sin embargo, pacientes deberá gjithmonë se tratado individual. Al time <g id=\"2\">iy</g><g id=\"3\">t</g> puede se adjudicarse Hasta dispersión de estos directrices para persona física pacientes o si específico recursos are bajos. El siguiendo directrices estara cover el tratamiento de el en la mayoría frecuentes presentaciones sus estara se observado en nuestros talleres Como tú estara discover práctica medicina en a A distancia fraguado inicial requieres a diferente SOA. El siguiendo directrices eran escrito con evidencia basada medicina as pozo as con Contraprestacion de qué es prácticamente disponible y es posible en nuestros de presión. Por favor, discutir pacientes con nuestros Plomo Medical Proveedores quién tener como condicion experiencia relevantes pacientes en nuestros único de presión. Par relativamente frecuentes Condiciones puede se tratado diferentemente en nuestros fraguado inicial para a Variedad de . El Plomo Medical Proveedores are allí Hasta Ensure sus el tratamiento cada de nuestros pacientes recibirá cumple Variable Médicos . Tratamiento planes puede Diferencia entre el comunidades también dependiendo el día el locales recursos y Más cercano salud cuidado velocidad.'}}\n"
     ]
    }
   ],
   "source": [
    "print(dataES)"
   ]
  },
  {
   "cell_type": "code",
   "execution_count": null,
   "metadata": {},
   "outputs": [],
   "source": []
  }
 ],
 "metadata": {
  "kernelspec": {
   "display_name": "Python 3",
   "language": "python",
   "name": "python3"
  },
  "language_info": {
   "codemirror_mode": {
    "name": "ipython",
    "version": 3
   },
   "file_extension": ".py",
   "mimetype": "text/x-python",
   "name": "python",
   "nbconvert_exporter": "python",
   "pygments_lexer": "ipython3",
   "version": "3.7.0"
  }
 },
 "nbformat": 4,
 "nbformat_minor": 2
}
