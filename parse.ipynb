{
 "cells": [
  {
   "cell_type": "code",
   "execution_count": 3,
   "metadata": {},
   "outputs": [],
   "source": [
    "import csv"
   ]
  },
  {
   "cell_type": "code",
   "execution_count": null,
   "metadata": {},
   "outputs": [],
   "source": []
  },
  {
   "cell_type": "code",
   "execution_count": 13,
   "metadata": {},
   "outputs": [
    {
     "name": "stdout",
     "output_type": "stream",
     "text": [
      "['$Common Presentations', '']\n",
      "['2.1 Fever', '']\n",
      "['Presentation', '- Usually present with subjective fever that can be taken as genuine in this setting\\n- Chills, rigors, sepsis']\n",
      "['Causes', 'Although the fever is frequently of viral origin, serious illness must be excluded1\\n- Viral, bacterial, or parasitic infection\\n- Pneumonia\\n- Pyelonephritis\\n- Dengue\\n- Malaria (less likely)\\n- Bacterial meningitis\\n- Skin infections\\n- Malignancy']\n",
      "['Investigations', '- Full intake, including respiratory rate and heart rate - Establish pattern and duration of fever- For children:\\nPay attention to skin, throat, ears, chest to identify source of infection Enquire about gastrointestinal symptoms and seizures Urine test']\n",
      "['Diagnosis', '- Temperature >38 degrees C (100.4 degrees F)\\n\\nAxillary temperature underestimates core body temperature by approximately 0.5 degrees Celsius. 2 Therefore, add 0.5 degrees Celsius to any axillary measurements.']\n",
      "['Management', 'Infants (aged 0-28 days)\\n“All febrile neonates aged 0-28 days old should be hospitalized for presumed sepsis and treated with antibiotics pending culture results (48 hours).3,4”\\nInfants (aged 28-90 days)\\n“All febrile infants aged 28-60 days, after having a sepsis evaluation, should be hospitalized and empirically started on intravenous antibiotics pending culture results.3” Infants aged 28-90 days will require a number of investigations for which hospitalization is necessary. Regardless of hospitalization outcome, these children still require follow-up every 24 hours until the fever has resolved and all cultures are negative.5\\nInfants (aged 3 months-3 years)\\n“Febrile children aged 3 months to 3 years are evaluated based on epidemiologic and focal findings revealed during the history taking and physical examination as well as whether or not these children are at low risk for serious bacterial infections3,6.']\n",
      "['Management8', \"Identification and appropriate management depends on the underlying cause. In the case of self-limiting viral infections, the only management required is advice and reassurance.\\nIf meningococcal disease is suspected, give parenteral antibiotics at the earliest opportunity (either benzylpenicillin or a third-generation cephalosporin).\\n\\nHealth Education for patients and relatives\\nStress importance of adequate, and increased fluid intake. Do not wear too many clothes or use too many blankets. Don't wipe the sweat off immediately as this helps to cool the body. Cool baths and tepid sponging are not recommended.\\nAntipyretic drugs\\nFever is the normal response of the body to infection and unless the child becomes distressed or symptomatic, fever alone should not be routinely treated.There is evidence that host defence mechanisms are enhanced by a raised temperature. Antipyretics (eg, paracetamol and ibuprofen) should therefore not be used routinely but can be of value, especially for patients with systemic disease (particularly heart failure or respiratory failure) and when fever causes acute confusion. Consider either paracetamol or ibuprofen as an option if a child appears distressed or is unwell.\\nPharmacological Treatment (consult BNF or BNF for children)\\n\\nFirst line: Paracetamol/Acetaminophen\\nSecond line: Ibuprofen\\n\\n** Please avoid maximum dosing where appropriate. Higher dosing is not recommended in this region due to chronic dehydration and renal impairment **\"]\n",
      "['', '']\n"
     ]
    }
   ],
   "source": [
    "with open(\"data.csv\") as csvfile:\n",
    "    readCSV = csv.reader(csvfile, delimiter=',')\n",
    "    count = 0\n",
    "    for row in readCSV:\n",
    "        if count == 9:\n",
    "            break\n",
    "        print(row)\n",
    "        count += 1"
   ]
  },
  {
   "cell_type": "code",
   "execution_count": 1,
   "metadata": {},
   "outputs": [],
   "source": [
    "import json"
   ]
  },
  {
   "cell_type": "code",
   "execution_count": 2,
   "metadata": {},
   "outputs": [],
   "source": [
    "import csv"
   ]
  },
  {
   "cell_type": "code",
   "execution_count": 3,
   "metadata": {},
   "outputs": [],
   "source": [
    "data = {}"
   ]
  },
  {
   "cell_type": "code",
   "execution_count": 5,
   "metadata": {},
   "outputs": [
    {
     "name": "stdout",
     "output_type": "stream",
     "text": [
      "['Respiratory', 'Lower Respiratory Tract Infection', 'Lower Respiratory Tract Infection - Bronchiolitis']\n",
      "['Respiratory', 'Lower Respiratory Tract Infection', 'Lower Respiratory Tract Infection - Bronchiolitis']\n",
      "['Respiratory', 'Lower Respiratory Tract Infection', 'Lower Respiratory Tract Infection - Bronchiolitis']\n",
      "['Respiratory', 'Lower Respiratory Tract Infection', 'Lower Respiratory Tract Infection - Pneumonia']\n",
      "['Respiratory', 'Lower Respiratory Tract Infection', 'Lower Respiratory Tract Infection - Pneumonia']\n",
      "['Respiratory', 'Lower Respiratory Tract Infection', 'Lower Respiratory Tract Infection - Pneumonia']\n"
     ]
    }
   ],
   "source": [
    "currPath = []\n",
    "with open(\"data.csv\") as csvfile:\n",
    "    readCSV = csv.reader(csvfile, delimiter=',')\n",
    "    for row in readCSV:\n",
    "        # If row == ['',''] then next row\n",
    "        c1 = row[0]\n",
    "        c2 = row[1]\n",
    "        if c1 == '' and c2 == '':\n",
    "            continue\n",
    "        \n",
    "        # Check if it's a header\n",
    "        if c1[0][0] == '$':\n",
    "            if len(currPath) != 0:\n",
    "                currPath = []\n",
    "            header = c1[1:]\n",
    "            currPath.append(header)\n",
    "            data.update({header:{}})    \n",
    "\n",
    "        # if row == [#.# Example,''] then get the name of subtopic and append to path\n",
    "        elif c1[0].isdigit() and c1[2].isdigit() and c1[4].isdigit() == False:\n",
    "            if len(currPath) == 2:\n",
    "                currPath.pop()\n",
    "            if len(currPath) == 3:\n",
    "                currPath.pop()\n",
    "                currPath.pop()\n",
    "            header = c1[4:]\n",
    "            currPath.append(header)\n",
    "            data[currPath[0]].update({header:{}})\n",
    "        \n",
    "        elif c1[0].isdigit() and c1[2].isdigit() and c1[4].isdigit():\n",
    "            if len(currPath) == 3:\n",
    "                currPath.pop()\n",
    "            header = c1[6:]\n",
    "            currPath.append(header)\n",
    "            data[currPath[0]][currPath[1]].update({header:{}})\n",
    "            \n",
    "        # if row == ['Causes', 'blahblah']\n",
    "        else:\n",
    "            if len(currPath) == 1:\n",
    "                data[currPath[0]].update({c1:c2})\n",
    "            elif len(currPath) == 2:\n",
    "                data[currPath[0]][currPath[1]].update({c1:c2})                \n",
    "            else:\n",
    "                print(currPath)\n",
    "                data[currPath[0]][currPath[1]][currPath[2]].update({c1:c2})"
   ]
  },
  {
   "cell_type": "code",
   "execution_count": null,
   "metadata": {},
   "outputs": [],
   "source": []
  },
  {
   "cell_type": "code",
   "execution_count": 6,
   "metadata": {},
   "outputs": [],
   "source": [
    "with open('test4.json', 'w') as outfile:\n",
    "    json.dump(data,outfile,indent=4)"
   ]
  },
  {
   "cell_type": "code",
   "execution_count": 5,
   "metadata": {},
   "outputs": [],
   "source": [
    "test = \"hi123\""
   ]
  },
  {
   "cell_type": "code",
   "execution_count": 6,
   "metadata": {},
   "outputs": [
    {
     "data": {
      "text/plain": [
       "'i123'"
      ]
     },
     "execution_count": 6,
     "metadata": {},
     "output_type": "execute_result"
    }
   ],
   "source": [
    "test[1:]"
   ]
  },
  {
   "cell_type": "code",
   "execution_count": 47,
   "metadata": {},
   "outputs": [],
   "source": [
    "test['Fever'].update({\"a\":\"b\"})"
   ]
  },
  {
   "cell_type": "code",
   "execution_count": 48,
   "metadata": {},
   "outputs": [
    {
     "data": {
      "text/plain": [
       "{'Fever': {'a': 'b'}}"
      ]
     },
     "execution_count": 48,
     "metadata": {},
     "output_type": "execute_result"
    }
   ],
   "source": [
    "test"
   ]
  },
  {
   "cell_type": "code",
   "execution_count": null,
   "metadata": {},
   "outputs": [],
   "source": []
  }
 ],
 "metadata": {
  "kernelspec": {
   "display_name": "Python 3",
   "language": "python",
   "name": "python3"
  },
  "language_info": {
   "codemirror_mode": {
    "name": "ipython",
    "version": 3
   },
   "file_extension": ".py",
   "mimetype": "text/x-python",
   "name": "python",
   "nbconvert_exporter": "python",
   "pygments_lexer": "ipython3",
   "version": "3.7.0"
  }
 },
 "nbformat": 4,
 "nbformat_minor": 2
}
