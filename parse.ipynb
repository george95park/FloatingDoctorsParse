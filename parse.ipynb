{
 "cells": [
  {
   "cell_type": "code",
   "execution_count": 3,
   "metadata": {},
   "outputs": [],
   "source": [
    "import json\n",
    "import csv\n",
    "import base64"
   ]
  },
  {
   "cell_type": "code",
   "execution_count": 4,
   "metadata": {},
   "outputs": [],
   "source": [
    "data = {}"
   ]
  },
  {
   "cell_type": "code",
   "execution_count": null,
   "metadata": {},
   "outputs": [],
   "source": []
  },
  {
   "cell_type": "code",
   "execution_count": 5,
   "metadata": {},
   "outputs": [
    {
     "name": "stdout",
     "output_type": "stream",
     "text": [
      "284613\n"
     ]
    }
   ],
   "source": [
    "currPath = []\n",
    "firstLine = 0\n",
    "characterCount = 0\n",
    "with open(\"data.csv\") as csvfile:\n",
    "    readCSV = csv.reader(csvfile, delimiter=',')\n",
    "    for row in readCSV:\n",
    "        c1 = row[0] # key\n",
    "        c2 = row[1] # value\n",
    "        c3 = ''\n",
    "        c4 = ''\n",
    "        if len(row) == 3 and row[2] != '':\n",
    "            c3 = row[2].split(', ') # image\n",
    "        \n",
    "        # skip column headers\n",
    "        if firstLine == 0:\n",
    "            firstLine += 1\n",
    "            continue\n",
    "        # If row == ['',''] then next row\n",
    "        if c1 == '' and c2 == '':\n",
    "            continue\n",
    "        \n",
    "        # grab index of first character\n",
    "        firstCharIndex = 0\n",
    "        for c in c1:\n",
    "            if c.isalpha():\n",
    "                break\n",
    "            firstCharIndex += 1\n",
    "        \n",
    "        # Check if it's a header\n",
    "        if c1[0][0] == '$':\n",
    "            if len(currPath) != 0:\n",
    "                currPath = []\n",
    "            header = c1[1:]\n",
    "            characterCount += len(header)\n",
    "            currPath.append(header)\n",
    "            data.update({header:{}})    \n",
    "\n",
    "        # if row == [#.# Example,''] then get the name of subtopic and append to path\n",
    "        elif firstCharIndex < 6 and firstCharIndex != 0:\n",
    "            if len(currPath) == 2:\n",
    "                currPath.pop()\n",
    "            if len(currPath) == 3:\n",
    "                currPath.pop()\n",
    "                currPath.pop()\n",
    "            header = c1[firstCharIndex:]\n",
    "            characterCount += len(header)\n",
    "            currPath.append(header)\n",
    "            data[currPath[0]].update({header:{}})\n",
    "        \n",
    "        # if row == [#.#.# Example, '']\n",
    "        elif firstCharIndex > 5:\n",
    "            if len(currPath) == 3:\n",
    "                currPath.pop()\n",
    "            header = c1[firstCharIndex:]\n",
    "            characterCount += len(header)\n",
    "            currPath.append(header)\n",
    "            data[currPath[0]][currPath[1]].update({header:{}})\n",
    "            \n",
    "        # if the row's value is a string and not a key, we can go ahead and append it to JSON\n",
    "        else:\n",
    "            characterCount += len(c2)\n",
    "            characterCount += len(c1)\n",
    "            # adding HTML tag for things like <b> and <i>\n",
    "            c2 = '<p>' + c2 + '</p>'\n",
    "            \n",
    "            # This is very limiting in the way I did this, but it works for now.\n",
    "            # Check the length of the currPath and update dictionary accordingly.\n",
    "            if len(currPath) == 1:\n",
    "                # if there is an image\n",
    "                if c3 != '':\n",
    "                    data[currPath[0]].update({c1:{}})\n",
    "                    data[currPath[0]][c1].update({\"Image\":c3})\n",
    "                    data[currPath[0]][c1].update({\"Text\":c2})\n",
    "                # if no image\n",
    "                else:\n",
    "                    data[currPath[0]].update({c1:c2}) \n",
    "            elif len(currPath) == 2:\n",
    "                if c3 != '':\n",
    "                    data[currPath[0]][currPath[1]].update({c1:{}})\n",
    "                    data[currPath[0]][currPath[1]][c1].update({\"Image\":c3})\n",
    "                    data[currPath[0]][currPath[1]][c1].update({\"Text\":c2})\n",
    "                else:\n",
    "                    data[currPath[0]][currPath[1]].update({c1:c2})                \n",
    "            else:\n",
    "                if c3 != '':\n",
    "                    data[currPath[0]][currPath[1]][currPath[2]].update({c1:{}})\n",
    "                    data[currPath[0]][currPath[1]][currPath[2]][c1].update({\"Image\":c3})\n",
    "                    data[currPath[0]][currPath[1]][currPath[2]][c1].update({\"Text\":c2})\n",
    "                else:\n",
    "                    data[currPath[0]][currPath[1]][currPath[2]].update({c1:c2})\n",
    "                    \n",
    "    print(characterCount)"
   ]
  },
  {
   "cell_type": "code",
   "execution_count": null,
   "metadata": {},
   "outputs": [],
   "source": []
  },
  {
   "cell_type": "code",
   "execution_count": 6,
   "metadata": {},
   "outputs": [],
   "source": [
    "# dump data to JSON file\n",
    "with open('data.json', 'w') as outfile:\n",
    "    json.dump(data,outfile,indent=4)"
   ]
  },
  {
   "cell_type": "code",
   "execution_count": 2,
   "metadata": {},
   "outputs": [
    {
     "ename": "NameError",
     "evalue": "name 'csv' is not defined",
     "output_type": "error",
     "traceback": [
      "\u001b[0;31m---------------------------------------------------------------------------\u001b[0m",
      "\u001b[0;31mNameError\u001b[0m                                 Traceback (most recent call last)",
      "\u001b[0;32m<ipython-input-2-c9459039913e>\u001b[0m in \u001b[0;36m<module>\u001b[0;34m()\u001b[0m\n\u001b[1;32m      2\u001b[0m \u001b[0mimgList\u001b[0m \u001b[0;34m=\u001b[0m \u001b[0;34m[\u001b[0m\u001b[0;34m]\u001b[0m\u001b[0;34m\u001b[0m\u001b[0m\n\u001b[1;32m      3\u001b[0m \u001b[0;32mwith\u001b[0m \u001b[0mopen\u001b[0m\u001b[0;34m(\u001b[0m\u001b[0;34m\"data.csv\"\u001b[0m\u001b[0;34m)\u001b[0m \u001b[0;32mas\u001b[0m \u001b[0mcsvfile\u001b[0m\u001b[0;34m:\u001b[0m\u001b[0;34m\u001b[0m\u001b[0m\n\u001b[0;32m----> 4\u001b[0;31m     \u001b[0mreadCSV\u001b[0m \u001b[0;34m=\u001b[0m \u001b[0mcsv\u001b[0m\u001b[0;34m.\u001b[0m\u001b[0mreader\u001b[0m\u001b[0;34m(\u001b[0m\u001b[0mcsvfile\u001b[0m\u001b[0;34m,\u001b[0m \u001b[0mdelimiter\u001b[0m\u001b[0;34m=\u001b[0m\u001b[0;34m','\u001b[0m\u001b[0;34m)\u001b[0m\u001b[0;34m\u001b[0m\u001b[0m\n\u001b[0m\u001b[1;32m      5\u001b[0m     \u001b[0;32mfor\u001b[0m \u001b[0mrow\u001b[0m \u001b[0;32min\u001b[0m \u001b[0mreadCSV\u001b[0m\u001b[0;34m:\u001b[0m\u001b[0;34m\u001b[0m\u001b[0m\n\u001b[1;32m      6\u001b[0m         \u001b[0;31m# skip column headers\u001b[0m\u001b[0;34m\u001b[0m\u001b[0;34m\u001b[0m\u001b[0m\n",
      "\u001b[0;31mNameError\u001b[0m: name 'csv' is not defined"
     ]
    }
   ],
   "source": [
    "firstLine = 0\n",
    "imgList = []\n",
    "with open(\"data.csv\") as csvfile:\n",
    "    readCSV = csv.reader(csvfile, delimiter=',')\n",
    "    for row in readCSV:\n",
    "        # skip column headers\n",
    "        if firstLine == 0:\n",
    "            firstLine += 1\n",
    "            continue\n",
    "        print(row[2])\n",
    "        if len(row) == 3 and row[2] != '':\n",
    "            l = row[2].split(', ')\n",
    "            for i in l:\n",
    "                imgList.append(i)\n",
    "        "
   ]
  },
  {
   "cell_type": "code",
   "execution_count": 5,
   "metadata": {},
   "outputs": [
    {
     "data": {
      "text/plain": [
       "28"
      ]
     },
     "execution_count": 5,
     "metadata": {},
     "output_type": "execute_result"
    }
   ],
   "source": [
    "len(imgList)"
   ]
  },
  {
   "cell_type": "code",
   "execution_count": 61,
   "metadata": {},
   "outputs": [],
   "source": [
    "f = open(\"imagesDict.txt\", \"w+\")"
   ]
  },
  {
   "cell_type": "code",
   "execution_count": 62,
   "metadata": {},
   "outputs": [
    {
     "data": {
      "text/plain": [
       "17"
      ]
     },
     "execution_count": 62,
     "metadata": {},
     "output_type": "execute_result"
    }
   ],
   "source": [
    "f.write(\"const images = {\\n\")"
   ]
  },
  {
   "cell_type": "code",
   "execution_count": 63,
   "metadata": {},
   "outputs": [],
   "source": [
    "for i in imgList:\n",
    "    n = i + \".png\"\n",
    "    n = \"./images/\" + n\n",
    "    b = base64.b64encode(open(n, \"rb\").read())\n",
    "    b = \"'data:image/png;base64,\" + b.decode(\"utf-8\")\n",
    "    f.write(i + ': ' + b + '\\',' + '\\n\\n\\n')\n",
    "    f.write(\"&&&&&&&&&&&&&&&&&&&&&&&&&&&&&&&&&&&&&&&&&&&&&&&&&&&&&&&&&&&&&&&&\")\n",
    "    f.write('\\n\\n\\n')"
   ]
  },
  {
   "cell_type": "code",
   "execution_count": 64,
   "metadata": {},
   "outputs": [],
   "source": [
    "f.close()"
   ]
  },
  {
   "cell_type": "code",
   "execution_count": 1,
   "metadata": {},
   "outputs": [],
   "source": [
    "test = \"123456\""
   ]
  },
  {
   "cell_type": "code",
   "execution_count": 2,
   "metadata": {},
   "outputs": [
    {
     "data": {
      "text/plain": [
       "'456'"
      ]
     },
     "execution_count": 2,
     "metadata": {},
     "output_type": "execute_result"
    }
   ],
   "source": [
    "test[3:]"
   ]
  },
  {
   "cell_type": "code",
   "execution_count": 3,
   "metadata": {},
   "outputs": [
    {
     "data": {
      "text/plain": [
       "'123'"
      ]
     },
     "execution_count": 3,
     "metadata": {},
     "output_type": "execute_result"
    }
   ],
   "source": [
    "test[:3]"
   ]
  },
  {
   "cell_type": "code",
   "execution_count": null,
   "metadata": {},
   "outputs": [],
   "source": []
  }
 ],
 "metadata": {
  "kernelspec": {
   "display_name": "Python 3",
   "language": "python",
   "name": "python3"
  },
  "language_info": {
   "codemirror_mode": {
    "name": "ipython",
    "version": 3
   },
   "file_extension": ".py",
   "mimetype": "text/x-python",
   "name": "python",
   "nbconvert_exporter": "python",
   "pygments_lexer": "ipython3",
   "version": "3.7.0"
  }
 },
 "nbformat": 4,
 "nbformat_minor": 2
}
