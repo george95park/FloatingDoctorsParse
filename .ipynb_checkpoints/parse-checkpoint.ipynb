{
 "cells": [
  {
   "cell_type": "code",
   "execution_count": 1,
   "metadata": {},
   "outputs": [],
   "source": [
    "import json\n",
    "import csv"
   ]
  },
  {
   "cell_type": "code",
   "execution_count": 2,
   "metadata": {},
   "outputs": [],
   "source": [
    "data = {}"
   ]
  },
  {
   "cell_type": "code",
   "execution_count": null,
   "metadata": {},
   "outputs": [],
   "source": []
  },
  {
   "cell_type": "code",
   "execution_count": 3,
   "metadata": {},
   "outputs": [],
   "source": [
    "currPath = []\n",
    "firstLine = 0\n",
    "with open(\"data.csv\") as csvfile:\n",
    "    readCSV = csv.reader(csvfile, delimiter=',')\n",
    "    for row in readCSV:\n",
    "        # If row == ['',''] then next row\n",
    "        c1 = row[0] # key\n",
    "        c2 = row[1] # value\n",
    "        c3 = ''\n",
    "        c4 = ''\n",
    "        if len(row) == 3:\n",
    "            c3 = row[2] # image1\n",
    "        \n",
    "        # skip column headers\n",
    "        if firstLine == 0:\n",
    "            firstLine += 1\n",
    "            continue\n",
    "        if c1 == '' and c2 == '':\n",
    "            continue\n",
    "        \n",
    "        # grab index of first character\n",
    "        firstCharIndex = 0\n",
    "        for c in c1:\n",
    "            if c.isalpha():\n",
    "                break\n",
    "            firstCharIndex += 1\n",
    "        \n",
    "        # Check if it's a header\n",
    "        if c1[0][0] == '$':\n",
    "            if len(currPath) != 0:\n",
    "                currPath = []\n",
    "            header = c1[1:]\n",
    "            currPath.append(header)\n",
    "            data.update({header:{}})    \n",
    "\n",
    "        # if row == [#.# Example,''] then get the name of subtopic and append to path\n",
    "        elif firstCharIndex < 6 and firstCharIndex != 0:\n",
    "            if len(currPath) == 2:\n",
    "                currPath.pop()\n",
    "            if len(currPath) == 3:\n",
    "                currPath.pop()\n",
    "                currPath.pop()\n",
    "            header = c1[firstCharIndex:]\n",
    "            currPath.append(header)\n",
    "            data[currPath[0]].update({header:{}})\n",
    "        \n",
    "        # if row == [#.#.# Example, '']\n",
    "        elif firstCharIndex > 5:\n",
    "            if len(currPath) == 3:\n",
    "                currPath.pop()\n",
    "            header = c1[firstCharIndex:]\n",
    "            currPath.append(header)\n",
    "            data[currPath[0]][currPath[1]].update({header:{}})\n",
    "            \n",
    "        # if the row's value is a string and not a key, we can go ahead and append it to JSON\n",
    "        else:\n",
    "            # adding HTML tag for things like <b> and <i>\n",
    "            c2 = '<p>' + c2 + '</p>'\n",
    "            \n",
    "            # This is very limiting in the way I did this, but it works for now.\n",
    "            # Check the length of the currPath and update dictionary accordingly.\n",
    "            if len(currPath) == 1:\n",
    "                # if there is an image\n",
    "                if c3 != '':\n",
    "                    data[currPath[0]].update({c1:{}})\n",
    "                    data[currPath[0]][c1].update({\"Image\":c3})\n",
    "                    data[currPath[0]][c1].update({\"Text\":c2})\n",
    "                # if no image\n",
    "                else:\n",
    "                    data[currPath[0]].update({c1:c2}) \n",
    "            elif len(currPath) == 2:\n",
    "                if c3 != '':\n",
    "                    data[currPath[0]][currPath[1]].update({c1:{}})\n",
    "                    data[currPath[0]][currPath[1]][c1].update({\"Image\":c3})\n",
    "                    data[currPath[0]][currPath[1]][c1].update({\"Text\":c2})\n",
    "                else:\n",
    "                    data[currPath[0]][currPath[1]].update({c1:c2})                \n",
    "            else:\n",
    "                if c3 != '':\n",
    "                    data[currPath[0]][currPath[1]][currPath[2]].update({c1:{}})\n",
    "                    data[currPath[0]][currPath[1]][currPath[2]][c1].update({\"Image\":c3})\n",
    "                    data[currPath[0]][currPath[1]][currPath[2]][c1].update({\"Text\":c2})\n",
    "                else:\n",
    "                    data[currPath[0]][currPath[1]][currPath[2]].update({c1:c2})"
   ]
  },
  {
   "cell_type": "code",
   "execution_count": null,
   "metadata": {},
   "outputs": [],
   "source": []
  },
  {
   "cell_type": "code",
   "execution_count": 4,
   "metadata": {},
   "outputs": [],
   "source": [
    "# dump data to JSON file\n",
    "with open('data.json', 'w') as outfile:\n",
    "    json.dump(data,outfile,indent=4)"
   ]
  },
  {
   "cell_type": "code",
   "execution_count": null,
   "metadata": {},
   "outputs": [],
   "source": []
  },
  {
   "cell_type": "code",
   "execution_count": null,
   "metadata": {},
   "outputs": [],
   "source": []
  }
 ],
 "metadata": {
  "kernelspec": {
   "display_name": "Python 3",
   "language": "python",
   "name": "python3"
  },
  "language_info": {
   "codemirror_mode": {
    "name": "ipython",
    "version": 3
   },
   "file_extension": ".py",
   "mimetype": "text/x-python",
   "name": "python",
   "nbconvert_exporter": "python",
   "pygments_lexer": "ipython3",
   "version": "3.7.0"
  }
 },
 "nbformat": 4,
 "nbformat_minor": 2
}
